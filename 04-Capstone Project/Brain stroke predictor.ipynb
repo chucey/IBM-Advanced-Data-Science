{
 "cells": [
  {
   "cell_type": "markdown",
   "id": "11d6eb7d-5b9a-4f75-a063-9b031ebbc1ee",
   "metadata": {},
   "source": [
    "# IBM Advanced Data Science Capstone"
   ]
  },
  {
   "cell_type": "markdown",
   "id": "2f84fdf3-4d77-488a-a40e-772216d08792",
   "metadata": {},
   "source": [
    "This Capstone project has been completed as part of the IBM Advanced Data Science Specialization. "
   ]
  },
  {
   "cell_type": "markdown",
   "id": "b21c5d3b-cac8-4139-9f17-274a3f40c7d2",
   "metadata": {},
   "source": [
    "## The Project\n",
    "\n",
    "A stroke is a medical condition in which poor blood circulation to the brain causes cells to die. There are two main types of stroke: ischemic, due to lack of blood flow, and hemorrhagic, due to bleeding. Both cause parts of the brain to stop functioning properly. Signs and symptoms of a stroke may include an inability to move or feel on one side of the body, problems understanding or speaking, dizziness, or loss of vision to one side. Signs and symptoms often appear soon after the stroke has occurred. If symptoms last less than one or two hours, the stroke is a transient ischemic attack (TIA), also called a mini-stroke. A hemorrhagic stroke may also be associated with a severe headache. The symptoms of a stroke can be permanent. Long-term complications may include pneumonia and loss of bladder control.\n",
    " \n",
    "In this project, A simple neural network will be built to predictive brain strokes given various features such as gender, age, hypotension, etc. This model will be evaluated based on its predictive accuracy on a validation set. This metric was chosen as this quantifies how well the model generalizes to unssen data.\n",
    "\n"
   ]
  },
  {
   "cell_type": "markdown",
   "id": "17fc871a-7090-4986-980e-36a2a6981d0b",
   "metadata": {},
   "source": [
    "## The Data\n",
    "\n",
    "The dataset used in this notebook is the [Brain stroke prediction dataset](https://www.kaggle.com/datasets/zzettrkalpakbal/full-filled-brain-stroke-dataset?resource=download) from kaggle. This dataset was collected by medical researchers in Turkey as they tried to better predict brain strokes as part of their research.\n",
    "\n",
    "Below are the data attributes:\n",
    "\n",
    "* gender: \"Male\", \"Female\" or \"Other\"\n",
    "* age: age of the patient\n",
    "* hypertension: 0 if the patient doesn't have hypertension, 1 if the patient has hypertension\n",
    "* heartdisease: 0 if the patient doesn't have any heart diseases, 1 if the patient has a heart disease \n",
    "* evermarried: \"No\" or \"Yes\"\n",
    "* worktype: \"children\", \"Govtjov\", \"Neverworked\", \"Private\" or \"Self-employed\" \n",
    "* Residencetype: \"Rural\" or \"Urban\"\n",
    "* avgglucoselevel: average glucose level in blood\n",
    "* bmi: body mass index\n",
    "* smoking_status: \"formerly smoked\", \"never smoked\", \"smokes\" or \"Unknown\"*\n",
    "* stroke: 1 if the patient had a stroke or 0 if not\n",
    "\n",
    "*Note: \"Unknown\" in smoking_status means that the information is unavailable for this patient"
   ]
  },
  {
   "cell_type": "markdown",
   "id": "7fdcbb1d-9810-46a2-8d8c-1e66663c29f4",
   "metadata": {},
   "source": [
    "## Importing Libraries\n",
    "\n"
   ]
  },
  {
   "cell_type": "code",
   "execution_count": 80,
   "id": "7d1e2d3f-a894-4da3-932e-d69f634d21c4",
   "metadata": {},
   "outputs": [],
   "source": [
    "#importing libraies\n",
    "import pandas as pd\n",
    "import numpy as np\n",
    "import matplotlib.pyplot as plt\n",
    "%matplotlib inline"
   ]
  },
  {
   "cell_type": "code",
   "execution_count": 81,
   "id": "0bab6889",
   "metadata": {},
   "outputs": [],
   "source": [
    "import warnings\n",
    "warnings.filterwarnings('ignore')"
   ]
  },
  {
   "cell_type": "code",
   "execution_count": 82,
   "id": "4e155828-121c-4d07-a5d3-6a8c3047e376",
   "metadata": {},
   "outputs": [
    {
     "data": {
      "text/html": [
       "<div>\n",
       "<style scoped>\n",
       "    .dataframe tbody tr th:only-of-type {\n",
       "        vertical-align: middle;\n",
       "    }\n",
       "\n",
       "    .dataframe tbody tr th {\n",
       "        vertical-align: top;\n",
       "    }\n",
       "\n",
       "    .dataframe thead th {\n",
       "        text-align: right;\n",
       "    }\n",
       "</style>\n",
       "<table border=\"1\" class=\"dataframe\">\n",
       "  <thead>\n",
       "    <tr style=\"text-align: right;\">\n",
       "      <th></th>\n",
       "      <th>gender</th>\n",
       "      <th>age</th>\n",
       "      <th>hypertension</th>\n",
       "      <th>heart_disease</th>\n",
       "      <th>ever_married</th>\n",
       "      <th>work_type</th>\n",
       "      <th>Residence_type</th>\n",
       "      <th>avg_glucose_level</th>\n",
       "      <th>bmi</th>\n",
       "      <th>smoking_status</th>\n",
       "      <th>stroke</th>\n",
       "    </tr>\n",
       "  </thead>\n",
       "  <tbody>\n",
       "    <tr>\n",
       "      <th>0</th>\n",
       "      <td>Male</td>\n",
       "      <td>67.0</td>\n",
       "      <td>0</td>\n",
       "      <td>1</td>\n",
       "      <td>Yes</td>\n",
       "      <td>Private</td>\n",
       "      <td>Urban</td>\n",
       "      <td>228.69</td>\n",
       "      <td>36.6</td>\n",
       "      <td>formerly smoked</td>\n",
       "      <td>1</td>\n",
       "    </tr>\n",
       "    <tr>\n",
       "      <th>1</th>\n",
       "      <td>Male</td>\n",
       "      <td>80.0</td>\n",
       "      <td>0</td>\n",
       "      <td>1</td>\n",
       "      <td>Yes</td>\n",
       "      <td>Private</td>\n",
       "      <td>Rural</td>\n",
       "      <td>105.92</td>\n",
       "      <td>32.5</td>\n",
       "      <td>never smoked</td>\n",
       "      <td>1</td>\n",
       "    </tr>\n",
       "    <tr>\n",
       "      <th>2</th>\n",
       "      <td>Female</td>\n",
       "      <td>49.0</td>\n",
       "      <td>0</td>\n",
       "      <td>0</td>\n",
       "      <td>Yes</td>\n",
       "      <td>Private</td>\n",
       "      <td>Urban</td>\n",
       "      <td>171.23</td>\n",
       "      <td>34.4</td>\n",
       "      <td>smokes</td>\n",
       "      <td>1</td>\n",
       "    </tr>\n",
       "    <tr>\n",
       "      <th>3</th>\n",
       "      <td>Female</td>\n",
       "      <td>79.0</td>\n",
       "      <td>1</td>\n",
       "      <td>0</td>\n",
       "      <td>Yes</td>\n",
       "      <td>Self-employed</td>\n",
       "      <td>Rural</td>\n",
       "      <td>174.12</td>\n",
       "      <td>24.0</td>\n",
       "      <td>never smoked</td>\n",
       "      <td>1</td>\n",
       "    </tr>\n",
       "    <tr>\n",
       "      <th>4</th>\n",
       "      <td>Male</td>\n",
       "      <td>81.0</td>\n",
       "      <td>0</td>\n",
       "      <td>0</td>\n",
       "      <td>Yes</td>\n",
       "      <td>Private</td>\n",
       "      <td>Urban</td>\n",
       "      <td>186.21</td>\n",
       "      <td>29.0</td>\n",
       "      <td>formerly smoked</td>\n",
       "      <td>1</td>\n",
       "    </tr>\n",
       "  </tbody>\n",
       "</table>\n",
       "</div>"
      ],
      "text/plain": [
       "   gender   age  hypertension  heart_disease ever_married      work_type  \\\n",
       "0    Male  67.0             0              1          Yes        Private   \n",
       "1    Male  80.0             0              1          Yes        Private   \n",
       "2  Female  49.0             0              0          Yes        Private   \n",
       "3  Female  79.0             1              0          Yes  Self-employed   \n",
       "4    Male  81.0             0              0          Yes        Private   \n",
       "\n",
       "  Residence_type  avg_glucose_level   bmi   smoking_status  stroke  \n",
       "0          Urban             228.69  36.6  formerly smoked       1  \n",
       "1          Rural             105.92  32.5     never smoked       1  \n",
       "2          Urban             171.23  34.4           smokes       1  \n",
       "3          Rural             174.12  24.0     never smoked       1  \n",
       "4          Urban             186.21  29.0  formerly smoked       1  "
      ]
     },
     "execution_count": 82,
     "metadata": {},
     "output_type": "execute_result"
    }
   ],
   "source": [
    "# load dataset\n",
    "file = open('full_data.csv')\n",
    "df = pd.read_csv(file)\n",
    "df.head()"
   ]
  },
  {
   "cell_type": "markdown",
   "id": "9cdc4b47",
   "metadata": {},
   "source": [
    "## Data Exploration"
   ]
  },
  {
   "cell_type": "code",
   "execution_count": 83,
   "id": "c8cc9476",
   "metadata": {},
   "outputs": [
    {
     "data": {
      "text/plain": [
       "(4981, 11)"
      ]
     },
     "execution_count": 83,
     "metadata": {},
     "output_type": "execute_result"
    }
   ],
   "source": [
    "df.shape"
   ]
  },
  {
   "cell_type": "code",
   "execution_count": 84,
   "id": "02a589ba-57f9-4915-8103-f4916f2554b3",
   "metadata": {},
   "outputs": [
    {
     "data": {
      "text/plain": [
       "gender                object\n",
       "age                  float64\n",
       "hypertension           int64\n",
       "heart_disease          int64\n",
       "ever_married          object\n",
       "work_type             object\n",
       "Residence_type        object\n",
       "avg_glucose_level    float64\n",
       "bmi                  float64\n",
       "smoking_status        object\n",
       "stroke                 int64\n",
       "dtype: object"
      ]
     },
     "execution_count": 84,
     "metadata": {},
     "output_type": "execute_result"
    }
   ],
   "source": [
    "df.dtypes"
   ]
  },
  {
   "cell_type": "code",
   "execution_count": 85,
   "id": "ddb57dbb",
   "metadata": {},
   "outputs": [
    {
     "data": {
      "text/html": [
       "<div>\n",
       "<style scoped>\n",
       "    .dataframe tbody tr th:only-of-type {\n",
       "        vertical-align: middle;\n",
       "    }\n",
       "\n",
       "    .dataframe tbody tr th {\n",
       "        vertical-align: top;\n",
       "    }\n",
       "\n",
       "    .dataframe thead th {\n",
       "        text-align: right;\n",
       "    }\n",
       "</style>\n",
       "<table border=\"1\" class=\"dataframe\">\n",
       "  <thead>\n",
       "    <tr style=\"text-align: right;\">\n",
       "      <th></th>\n",
       "      <th>age</th>\n",
       "      <th>hypertension</th>\n",
       "      <th>heart_disease</th>\n",
       "      <th>avg_glucose_level</th>\n",
       "      <th>bmi</th>\n",
       "      <th>stroke</th>\n",
       "    </tr>\n",
       "  </thead>\n",
       "  <tbody>\n",
       "    <tr>\n",
       "      <th>count</th>\n",
       "      <td>4981.000000</td>\n",
       "      <td>4981.000000</td>\n",
       "      <td>4981.000000</td>\n",
       "      <td>4981.000000</td>\n",
       "      <td>4981.000000</td>\n",
       "      <td>4981.000000</td>\n",
       "    </tr>\n",
       "    <tr>\n",
       "      <th>mean</th>\n",
       "      <td>43.419859</td>\n",
       "      <td>0.096165</td>\n",
       "      <td>0.055210</td>\n",
       "      <td>105.943562</td>\n",
       "      <td>28.498173</td>\n",
       "      <td>0.049789</td>\n",
       "    </tr>\n",
       "    <tr>\n",
       "      <th>std</th>\n",
       "      <td>22.662755</td>\n",
       "      <td>0.294848</td>\n",
       "      <td>0.228412</td>\n",
       "      <td>45.075373</td>\n",
       "      <td>6.790464</td>\n",
       "      <td>0.217531</td>\n",
       "    </tr>\n",
       "    <tr>\n",
       "      <th>min</th>\n",
       "      <td>0.080000</td>\n",
       "      <td>0.000000</td>\n",
       "      <td>0.000000</td>\n",
       "      <td>55.120000</td>\n",
       "      <td>14.000000</td>\n",
       "      <td>0.000000</td>\n",
       "    </tr>\n",
       "    <tr>\n",
       "      <th>25%</th>\n",
       "      <td>25.000000</td>\n",
       "      <td>0.000000</td>\n",
       "      <td>0.000000</td>\n",
       "      <td>77.230000</td>\n",
       "      <td>23.700000</td>\n",
       "      <td>0.000000</td>\n",
       "    </tr>\n",
       "    <tr>\n",
       "      <th>50%</th>\n",
       "      <td>45.000000</td>\n",
       "      <td>0.000000</td>\n",
       "      <td>0.000000</td>\n",
       "      <td>91.850000</td>\n",
       "      <td>28.100000</td>\n",
       "      <td>0.000000</td>\n",
       "    </tr>\n",
       "    <tr>\n",
       "      <th>75%</th>\n",
       "      <td>61.000000</td>\n",
       "      <td>0.000000</td>\n",
       "      <td>0.000000</td>\n",
       "      <td>113.860000</td>\n",
       "      <td>32.600000</td>\n",
       "      <td>0.000000</td>\n",
       "    </tr>\n",
       "    <tr>\n",
       "      <th>max</th>\n",
       "      <td>82.000000</td>\n",
       "      <td>1.000000</td>\n",
       "      <td>1.000000</td>\n",
       "      <td>271.740000</td>\n",
       "      <td>48.900000</td>\n",
       "      <td>1.000000</td>\n",
       "    </tr>\n",
       "  </tbody>\n",
       "</table>\n",
       "</div>"
      ],
      "text/plain": [
       "               age  hypertension  heart_disease  avg_glucose_level  \\\n",
       "count  4981.000000   4981.000000    4981.000000        4981.000000   \n",
       "mean     43.419859      0.096165       0.055210         105.943562   \n",
       "std      22.662755      0.294848       0.228412          45.075373   \n",
       "min       0.080000      0.000000       0.000000          55.120000   \n",
       "25%      25.000000      0.000000       0.000000          77.230000   \n",
       "50%      45.000000      0.000000       0.000000          91.850000   \n",
       "75%      61.000000      0.000000       0.000000         113.860000   \n",
       "max      82.000000      1.000000       1.000000         271.740000   \n",
       "\n",
       "               bmi       stroke  \n",
       "count  4981.000000  4981.000000  \n",
       "mean     28.498173     0.049789  \n",
       "std       6.790464     0.217531  \n",
       "min      14.000000     0.000000  \n",
       "25%      23.700000     0.000000  \n",
       "50%      28.100000     0.000000  \n",
       "75%      32.600000     0.000000  \n",
       "max      48.900000     1.000000  "
      ]
     },
     "execution_count": 85,
     "metadata": {},
     "output_type": "execute_result"
    }
   ],
   "source": [
    "df.describe()"
   ]
  },
  {
   "cell_type": "code",
   "execution_count": 86,
   "id": "56987488",
   "metadata": {},
   "outputs": [
    {
     "data": {
      "text/plain": [
       "gender               0\n",
       "age                  0\n",
       "hypertension         0\n",
       "heart_disease        0\n",
       "ever_married         0\n",
       "work_type            0\n",
       "Residence_type       0\n",
       "avg_glucose_level    0\n",
       "bmi                  0\n",
       "smoking_status       0\n",
       "stroke               0\n",
       "dtype: int64"
      ]
     },
     "execution_count": 86,
     "metadata": {},
     "output_type": "execute_result"
    }
   ],
   "source": [
    "df.isnull().sum()"
   ]
  },
  {
   "cell_type": "code",
   "execution_count": 87,
   "id": "42e917b1",
   "metadata": {},
   "outputs": [
    {
     "data": {
      "text/plain": [
       "0    4733\n",
       "1     248\n",
       "Name: stroke, dtype: int64"
      ]
     },
     "execution_count": 87,
     "metadata": {},
     "output_type": "execute_result"
    }
   ],
   "source": [
    "df['stroke'].value_counts()"
   ]
  },
  {
   "cell_type": "code",
   "execution_count": 88,
   "id": "297607b5",
   "metadata": {},
   "outputs": [
    {
     "data": {
      "image/png": "[encoded data removed]",
      "text/plain": [
       "<Figure size 432x216 with 2 Axes>"
      ]
     },
     "metadata": {
      "needs_background": "light"
     },
     "output_type": "display_data"
    }
   ],
   "source": [
    "import seaborn as sns\n",
    "\n",
    "bins = np.linspace(df.age.min(), df.age.max(), 10)\n",
    "g = sns.FacetGrid(df, col=\"gender\", hue=\"stroke\", palette=\"Set1\", col_wrap=2)\n",
    "g.map(plt.hist, 'age', bins=bins, ec=\"k\")\n",
    "\n",
    "g.axes[-1].legend()\n",
    "plt.show()"
   ]
  },
  {
   "cell_type": "code",
   "execution_count": 89,
   "id": "b4d8802d",
   "metadata": {},
   "outputs": [
    {
     "data": {
      "image/png": "[encoded data removed]",
      "text/plain": [
       "<Figure size 432x216 with 2 Axes>"
      ]
     },
     "metadata": {
      "needs_background": "light"
     },
     "output_type": "display_data"
    }
   ],
   "source": [
    "bins = np.linspace(df.age.min(), df.age.max(), 10)\n",
    "g = sns.FacetGrid(df, col=\"hypertension\", hue=\"stroke\", palette=\"Set1\", col_wrap=2)\n",
    "g.map(plt.hist, 'age', bins=bins, ec=\"k\")\n",
    "\n",
    "g.axes[-1].legend()\n",
    "plt.show()"
   ]
  },
  {
   "cell_type": "code",
   "execution_count": 90,
   "id": "49533da0",
   "metadata": {},
   "outputs": [
    {
     "data": {
      "image/png": "[encoded data removed]",
      "text/plain": [
       "<Figure size 432x216 with 2 Axes>"
      ]
     },
     "metadata": {
      "needs_background": "light"
     },
     "output_type": "display_data"
    }
   ],
   "source": [
    "bins = np.linspace(df.age.min(), df.age.max(), 10)\n",
    "g = sns.FacetGrid(df, col=\"heart_disease\", hue=\"stroke\", palette=\"Set1\", col_wrap=2)\n",
    "g.map(plt.hist, 'age', bins=bins, ec=\"k\")\n",
    "\n",
    "g.axes[-1].legend()\n",
    "plt.show()"
   ]
  },
  {
   "cell_type": "code",
   "execution_count": 91,
   "id": "9b8291ee",
   "metadata": {},
   "outputs": [
    {
     "data": {
      "image/png": "[encoded data removed]",
      "text/plain": [
       "<Figure size 432x216 with 2 Axes>"
      ]
     },
     "metadata": {
      "needs_background": "light"
     },
     "output_type": "display_data"
    }
   ],
   "source": [
    "bins = np.linspace(df.avg_glucose_level.min(), df.avg_glucose_level.max(), 10)\n",
    "g = sns.FacetGrid(df, col=\"gender\", hue=\"stroke\", palette=\"Set1\", col_wrap=2)\n",
    "g.map(plt.hist, 'avg_glucose_level', bins=bins, ec=\"k\")\n",
    "\n",
    "g.axes[-1].legend()\n",
    "plt.show()"
   ]
  },
  {
   "cell_type": "code",
   "execution_count": 92,
   "id": "4aa93e65",
   "metadata": {},
   "outputs": [
    {
     "data": {
      "image/png": "[encoded data removed]",
      "text/plain": [
       "<Figure size 432x216 with 2 Axes>"
      ]
     },
     "metadata": {
      "needs_background": "light"
     },
     "output_type": "display_data"
    }
   ],
   "source": [
    "bins = np.linspace(df.avg_glucose_level.min(), df.avg_glucose_level.max(), 10)\n",
    "g = sns.FacetGrid(df, col=\"hypertension\", hue=\"stroke\", palette=\"Set1\", col_wrap=2)\n",
    "g.map(plt.hist, 'avg_glucose_level', bins=bins, ec=\"k\")\n",
    "\n",
    "g.axes[-1].legend()\n",
    "plt.show()"
   ]
  },
  {
   "cell_type": "code",
   "execution_count": 93,
   "id": "cb6a22a6",
   "metadata": {},
   "outputs": [
    {
     "data": {
      "image/png": "[encoded data removed]",
      "text/plain": [
       "<Figure size 432x216 with 2 Axes>"
      ]
     },
     "metadata": {
      "needs_background": "light"
     },
     "output_type": "display_data"
    }
   ],
   "source": [
    "bins = np.linspace(df.bmi.min(), df.bmi.max(), 10)\n",
    "g = sns.FacetGrid(df, col=\"gender\", hue=\"stroke\", palette=\"Set1\", col_wrap=2)\n",
    "g.map(plt.hist, 'bmi', bins=bins, ec=\"k\")\n",
    "\n",
    "g.axes[-1].legend()\n",
    "plt.show()"
   ]
  },
  {
   "cell_type": "markdown",
   "id": "71a32d39",
   "metadata": {},
   "source": [
    "## OneHotEncoding and Normalization"
   ]
  },
  {
   "cell_type": "code",
   "execution_count": 94,
   "id": "b6fb03b8",
   "metadata": {},
   "outputs": [
    {
     "data": {
      "text/plain": [
       "(4981, 19)"
      ]
     },
     "execution_count": 94,
     "metadata": {},
     "output_type": "execute_result"
    }
   ],
   "source": [
    "#onehotencoding\n",
    "\n",
    "Features = df.iloc[:,:-1]\n",
    "Target = df.iloc[:,-1:]\n",
    "\n",
    "Features = pd.get_dummies(Features)\n",
    "Feature_cols = list(Features.columns)\n",
    "\n",
    "Features.shape"
   ]
  },
  {
   "cell_type": "code",
   "execution_count": 95,
   "id": "f0aab337",
   "metadata": {},
   "outputs": [
    {
     "data": {
      "text/html": [
       "<div>\n",
       "<style scoped>\n",
       "    .dataframe tbody tr th:only-of-type {\n",
       "        vertical-align: middle;\n",
       "    }\n",
       "\n",
       "    .dataframe tbody tr th {\n",
       "        vertical-align: top;\n",
       "    }\n",
       "\n",
       "    .dataframe thead th {\n",
       "        text-align: right;\n",
       "    }\n",
       "</style>\n",
       "<table border=\"1\" class=\"dataframe\">\n",
       "  <thead>\n",
       "    <tr style=\"text-align: right;\">\n",
       "      <th></th>\n",
       "      <th>age</th>\n",
       "      <th>hypertension</th>\n",
       "      <th>heart_disease</th>\n",
       "      <th>avg_glucose_level</th>\n",
       "      <th>bmi</th>\n",
       "      <th>gender_Female</th>\n",
       "      <th>gender_Male</th>\n",
       "      <th>ever_married_No</th>\n",
       "      <th>ever_married_Yes</th>\n",
       "      <th>work_type_Govt_job</th>\n",
       "      <th>work_type_Private</th>\n",
       "      <th>work_type_Self-employed</th>\n",
       "      <th>work_type_children</th>\n",
       "      <th>Residence_type_Rural</th>\n",
       "      <th>Residence_type_Urban</th>\n",
       "      <th>smoking_status_Unknown</th>\n",
       "      <th>smoking_status_formerly smoked</th>\n",
       "      <th>smoking_status_never smoked</th>\n",
       "      <th>smoking_status_smokes</th>\n",
       "    </tr>\n",
       "  </thead>\n",
       "  <tbody>\n",
       "    <tr>\n",
       "      <th>0</th>\n",
       "      <td>0.816895</td>\n",
       "      <td>0.0</td>\n",
       "      <td>1.0</td>\n",
       "      <td>0.801265</td>\n",
       "      <td>0.647564</td>\n",
       "      <td>0.0</td>\n",
       "      <td>1.0</td>\n",
       "      <td>0.0</td>\n",
       "      <td>1.0</td>\n",
       "      <td>0.0</td>\n",
       "      <td>1.0</td>\n",
       "      <td>0.0</td>\n",
       "      <td>0.0</td>\n",
       "      <td>0.0</td>\n",
       "      <td>1.0</td>\n",
       "      <td>0.0</td>\n",
       "      <td>1.0</td>\n",
       "      <td>0.0</td>\n",
       "      <td>0.0</td>\n",
       "    </tr>\n",
       "    <tr>\n",
       "      <th>1</th>\n",
       "      <td>0.975586</td>\n",
       "      <td>0.0</td>\n",
       "      <td>1.0</td>\n",
       "      <td>0.234512</td>\n",
       "      <td>0.530086</td>\n",
       "      <td>0.0</td>\n",
       "      <td>1.0</td>\n",
       "      <td>0.0</td>\n",
       "      <td>1.0</td>\n",
       "      <td>0.0</td>\n",
       "      <td>1.0</td>\n",
       "      <td>0.0</td>\n",
       "      <td>0.0</td>\n",
       "      <td>1.0</td>\n",
       "      <td>0.0</td>\n",
       "      <td>0.0</td>\n",
       "      <td>0.0</td>\n",
       "      <td>1.0</td>\n",
       "      <td>0.0</td>\n",
       "    </tr>\n",
       "    <tr>\n",
       "      <th>2</th>\n",
       "      <td>0.597168</td>\n",
       "      <td>0.0</td>\n",
       "      <td>0.0</td>\n",
       "      <td>0.536008</td>\n",
       "      <td>0.584527</td>\n",
       "      <td>1.0</td>\n",
       "      <td>0.0</td>\n",
       "      <td>0.0</td>\n",
       "      <td>1.0</td>\n",
       "      <td>0.0</td>\n",
       "      <td>1.0</td>\n",
       "      <td>0.0</td>\n",
       "      <td>0.0</td>\n",
       "      <td>0.0</td>\n",
       "      <td>1.0</td>\n",
       "      <td>0.0</td>\n",
       "      <td>0.0</td>\n",
       "      <td>0.0</td>\n",
       "      <td>1.0</td>\n",
       "    </tr>\n",
       "    <tr>\n",
       "      <th>3</th>\n",
       "      <td>0.963379</td>\n",
       "      <td>1.0</td>\n",
       "      <td>0.0</td>\n",
       "      <td>0.549349</td>\n",
       "      <td>0.286533</td>\n",
       "      <td>1.0</td>\n",
       "      <td>0.0</td>\n",
       "      <td>0.0</td>\n",
       "      <td>1.0</td>\n",
       "      <td>0.0</td>\n",
       "      <td>0.0</td>\n",
       "      <td>1.0</td>\n",
       "      <td>0.0</td>\n",
       "      <td>1.0</td>\n",
       "      <td>0.0</td>\n",
       "      <td>0.0</td>\n",
       "      <td>0.0</td>\n",
       "      <td>1.0</td>\n",
       "      <td>0.0</td>\n",
       "    </tr>\n",
       "    <tr>\n",
       "      <th>4</th>\n",
       "      <td>0.987793</td>\n",
       "      <td>0.0</td>\n",
       "      <td>0.0</td>\n",
       "      <td>0.605161</td>\n",
       "      <td>0.429799</td>\n",
       "      <td>0.0</td>\n",
       "      <td>1.0</td>\n",
       "      <td>0.0</td>\n",
       "      <td>1.0</td>\n",
       "      <td>0.0</td>\n",
       "      <td>1.0</td>\n",
       "      <td>0.0</td>\n",
       "      <td>0.0</td>\n",
       "      <td>0.0</td>\n",
       "      <td>1.0</td>\n",
       "      <td>0.0</td>\n",
       "      <td>1.0</td>\n",
       "      <td>0.0</td>\n",
       "      <td>0.0</td>\n",
       "    </tr>\n",
       "  </tbody>\n",
       "</table>\n",
       "</div>"
      ],
      "text/plain": [
       "        age  hypertension  heart_disease  avg_glucose_level       bmi  \\\n",
       "0  0.816895           0.0            1.0           0.801265  0.647564   \n",
       "1  0.975586           0.0            1.0           0.234512  0.530086   \n",
       "2  0.597168           0.0            0.0           0.536008  0.584527   \n",
       "3  0.963379           1.0            0.0           0.549349  0.286533   \n",
       "4  0.987793           0.0            0.0           0.605161  0.429799   \n",
       "\n",
       "   gender_Female  gender_Male  ever_married_No  ever_married_Yes  \\\n",
       "0            0.0          1.0              0.0               1.0   \n",
       "1            0.0          1.0              0.0               1.0   \n",
       "2            1.0          0.0              0.0               1.0   \n",
       "3            1.0          0.0              0.0               1.0   \n",
       "4            0.0          1.0              0.0               1.0   \n",
       "\n",
       "   work_type_Govt_job  work_type_Private  work_type_Self-employed  \\\n",
       "0                 0.0                1.0                      0.0   \n",
       "1                 0.0                1.0                      0.0   \n",
       "2                 0.0                1.0                      0.0   \n",
       "3                 0.0                0.0                      1.0   \n",
       "4                 0.0                1.0                      0.0   \n",
       "\n",
       "   work_type_children  Residence_type_Rural  Residence_type_Urban  \\\n",
       "0                 0.0                   0.0                   1.0   \n",
       "1                 0.0                   1.0                   0.0   \n",
       "2                 0.0                   0.0                   1.0   \n",
       "3                 0.0                   1.0                   0.0   \n",
       "4                 0.0                   0.0                   1.0   \n",
       "\n",
       "   smoking_status_Unknown  smoking_status_formerly smoked  \\\n",
       "0                     0.0                             1.0   \n",
       "1                     0.0                             0.0   \n",
       "2                     0.0                             0.0   \n",
       "3                     0.0                             0.0   \n",
       "4                     0.0                             1.0   \n",
       "\n",
       "   smoking_status_never smoked  smoking_status_smokes  \n",
       "0                          0.0                    0.0  \n",
       "1                          1.0                    0.0  \n",
       "2                          0.0                    1.0  \n",
       "3                          1.0                    0.0  \n",
       "4                          0.0                    0.0  "
      ]
     },
     "execution_count": 95,
     "metadata": {},
     "output_type": "execute_result"
    }
   ],
   "source": [
    "from sklearn.preprocessing import MinMaxScaler\n",
    "\n",
    "Features = MinMaxScaler().fit_transform(Features)\n",
    "Features = pd.DataFrame(Features,columns = Feature_cols)\n",
    "\n",
    "Features.head()"
   ]
  },
  {
   "cell_type": "markdown",
   "id": "c543b4bd",
   "metadata": {},
   "source": [
    "## Splitiing the Data"
   ]
  },
  {
   "cell_type": "code",
   "execution_count": 96,
   "id": "12cd4daf",
   "metadata": {},
   "outputs": [
    {
     "name": "stdout",
     "output_type": "stream",
     "text": [
      "x_train shape:  (3984, 19)\n",
      "x_test shape:  (997, 19)\n",
      "y_train shape:  (3984, 1)\n",
      "y_test shape:  (997, 1)\n"
     ]
    }
   ],
   "source": [
    "# split the data\n",
    "\n",
    "from sklearn.model_selection import StratifiedShuffleSplit\n",
    "\n",
    "# Get the split indexes\n",
    "strat_shuf_split = StratifiedShuffleSplit(n_splits=1, \n",
    "                                          test_size=0.2, \n",
    "                                          random_state=42)\n",
    "\n",
    "train_idx, test_idx = next(strat_shuf_split.split(Features, Target))\n",
    "\n",
    "# Create the dataframes\n",
    "x_train = Features.loc[train_idx]\n",
    "y_train = Target.loc[train_idx]\n",
    "\n",
    "x_test  = Features.loc[test_idx]\n",
    "y_test  = Target.loc[test_idx]\n",
    "\n",
    "print(\"x_train shape: \", x_train.shape)\n",
    "print(\"x_test shape: \", x_test.shape)\n",
    "print(\"y_train shape: \", y_train.shape)\n",
    "print(\"y_test shape: \", y_test.shape)"
   ]
  },
  {
   "cell_type": "markdown",
   "id": "d0179f11",
   "metadata": {},
   "source": [
    "## Building the Machine Learning Model"
   ]
  },
  {
   "cell_type": "markdown",
   "id": "14deeef8",
   "metadata": {},
   "source": [
    "### Simple Logistic Regression"
   ]
  },
  {
   "cell_type": "code",
   "execution_count": 97,
   "id": "ecbd33c3",
   "metadata": {},
   "outputs": [],
   "source": [
    "from sklearn.linear_model import LogisticRegression\n",
    "from sklearn.metrics import confusion_matrix, accuracy_score\n",
    "\n",
    "lr = LogisticRegression(solver='liblinear',\n",
    "                       penalty = 'l1').fit(x_train, y_train)"
   ]
  },
  {
   "cell_type": "code",
   "execution_count": 98,
   "id": "5e5bd352",
   "metadata": {},
   "outputs": [
    {
     "data": {
      "text/plain": [
       "0.9498495486459378"
      ]
     },
     "execution_count": 98,
     "metadata": {},
     "output_type": "execute_result"
    }
   ],
   "source": [
    "y_pred = lr.predict(x_test)\n",
    "acc = accuracy_score(y_test, y_pred)\n",
    "acc"
   ]
  },
  {
   "cell_type": "markdown",
   "id": "080c8479",
   "metadata": {},
   "source": [
    "### Simple Neural Network"
   ]
  },
  {
   "cell_type": "code",
   "execution_count": 99,
   "id": "dd0bd83b",
   "metadata": {},
   "outputs": [
    {
     "name": "stdout",
     "output_type": "stream",
     "text": [
      "Model: \"sequential_4\"\n",
      "_________________________________________________________________\n",
      " Layer (type)                Output Shape              Param #   \n",
      "=================================================================\n",
      " dense_24 (Dense)            (None, 64)                1280      \n",
      "                                                                 \n",
      " dropout_17 (Dropout)        (None, 64)                0         \n",
      "                                                                 \n",
      " dense_25 (Dense)            (None, 64)                4160      \n",
      "                                                                 \n",
      " dropout_18 (Dropout)        (None, 64)                0         \n",
      "                                                                 \n",
      " dense_26 (Dense)            (None, 32)                2080      \n",
      "                                                                 \n",
      " dropout_19 (Dropout)        (None, 32)                0         \n",
      "                                                                 \n",
      " dense_27 (Dense)            (None, 16)                528       \n",
      "                                                                 \n",
      " dropout_20 (Dropout)        (None, 16)                0         \n",
      "                                                                 \n",
      " dense_28 (Dense)            (None, 8)                 136       \n",
      "                                                                 \n",
      " dense_29 (Dense)            (None, 1)                 9         \n",
      "                                                                 \n",
      "=================================================================\n",
      "Total params: 8,193\n",
      "Trainable params: 8,193\n",
      "Non-trainable params: 0\n",
      "_________________________________________________________________\n"
     ]
    }
   ],
   "source": [
    "from keras.models  import Sequential\n",
    "from keras.layers import Input, Dense, Flatten, Dropout, BatchNormalization\n",
    "\n",
    "model = Sequential()\n",
    "model.add(Dense(64,activation='relu', input_shape=(19,)))\n",
    "model.add(Dropout(0.5))\n",
    "model.add(Dense(64,activation='relu'))\n",
    "model.add(Dropout(0.5))\n",
    "model.add(Dense(32,activation='relu'))\n",
    "model.add(Dropout(0.5))\n",
    "model.add(Dense(16,activation='relu'))\n",
    "model.add(Dropout(0.5))\n",
    "model.add(Dense(8,activation='relu'))\n",
    "model.add(Dense(1,activation='sigmoid'))\n",
    "\n",
    "model.summary()"
   ]
  },
  {
   "cell_type": "code",
   "execution_count": 100,
   "id": "f0aa339b",
   "metadata": {},
   "outputs": [
    {
     "name": "stdout",
     "output_type": "stream",
     "text": [
      "Epoch 1/30\n",
      "8/8 [==============================] - 1s 38ms/step - loss: 0.3945 - accuracy: 0.9315 - val_loss: 0.3263 - val_accuracy: 0.9498\n",
      "Epoch 2/30\n",
      "8/8 [==============================] - 0s 13ms/step - loss: 0.3014 - accuracy: 0.9463 - val_loss: 0.2156 - val_accuracy: 0.9498\n",
      "Epoch 3/30\n",
      "8/8 [==============================] - 0s 12ms/step - loss: 0.3020 - accuracy: 0.9488 - val_loss: 0.2046 - val_accuracy: 0.9498\n",
      "Epoch 4/30\n",
      "8/8 [==============================] - 0s 13ms/step - loss: 0.2645 - accuracy: 0.9501 - val_loss: 0.2021 - val_accuracy: 0.9498\n",
      "Epoch 5/30\n",
      "8/8 [==============================] - 0s 8ms/step - loss: 0.2622 - accuracy: 0.9501 - val_loss: 0.2048 - val_accuracy: 0.9498\n",
      "Epoch 6/30\n",
      "8/8 [==============================] - 0s 8ms/step - loss: 0.2634 - accuracy: 0.9503 - val_loss: 0.2163 - val_accuracy: 0.9498\n",
      "Epoch 7/30\n",
      "8/8 [==============================] - 0s 9ms/step - loss: 0.2496 - accuracy: 0.9495 - val_loss: 0.2192 - val_accuracy: 0.9498\n",
      "Epoch 8/30\n",
      "8/8 [==============================] - 0s 9ms/step - loss: 0.2474 - accuracy: 0.9501 - val_loss: 0.2134 - val_accuracy: 0.9498\n",
      "Epoch 9/30\n",
      "8/8 [==============================] - 0s 8ms/step - loss: 0.2355 - accuracy: 0.9501 - val_loss: 0.2083 - val_accuracy: 0.9498\n",
      "Epoch 10/30\n",
      "8/8 [==============================] - 0s 9ms/step - loss: 0.2335 - accuracy: 0.9503 - val_loss: 0.2037 - val_accuracy: 0.9498\n",
      "Epoch 11/30\n",
      "8/8 [==============================] - 0s 10ms/step - loss: 0.2301 - accuracy: 0.9503 - val_loss: 0.2046 - val_accuracy: 0.9498\n",
      "Epoch 12/30\n",
      "8/8 [==============================] - 0s 12ms/step - loss: 0.2371 - accuracy: 0.9503 - val_loss: 0.2090 - val_accuracy: 0.9498\n",
      "Epoch 13/30\n",
      "8/8 [==============================] - 0s 13ms/step - loss: 0.2400 - accuracy: 0.9503 - val_loss: 0.2125 - val_accuracy: 0.9498\n",
      "Epoch 14/30\n",
      "8/8 [==============================] - 0s 8ms/step - loss: 0.2214 - accuracy: 0.9501 - val_loss: 0.2102 - val_accuracy: 0.9498\n",
      "Epoch 15/30\n",
      "8/8 [==============================] - 0s 17ms/step - loss: 0.2248 - accuracy: 0.9503 - val_loss: 0.2075 - val_accuracy: 0.9498\n",
      "Epoch 16/30\n",
      "8/8 [==============================] - 0s 15ms/step - loss: 0.2249 - accuracy: 0.9503 - val_loss: 0.2072 - val_accuracy: 0.9498\n",
      "Epoch 17/30\n",
      "8/8 [==============================] - 0s 14ms/step - loss: 0.2141 - accuracy: 0.9503 - val_loss: 0.2075 - val_accuracy: 0.9498\n",
      "Epoch 18/30\n",
      "8/8 [==============================] - 0s 14ms/step - loss: 0.2197 - accuracy: 0.9503 - val_loss: 0.2038 - val_accuracy: 0.9498\n",
      "Epoch 19/30\n",
      "8/8 [==============================] - 0s 9ms/step - loss: 0.2104 - accuracy: 0.9503 - val_loss: 0.2064 - val_accuracy: 0.9498\n",
      "Epoch 20/30\n",
      "8/8 [==============================] - 0s 8ms/step - loss: 0.2062 - accuracy: 0.9503 - val_loss: 0.2072 - val_accuracy: 0.9498\n",
      "Epoch 21/30\n",
      "8/8 [==============================] - 0s 10ms/step - loss: 0.2089 - accuracy: 0.9503 - val_loss: 0.2041 - val_accuracy: 0.9498\n",
      "Epoch 22/30\n",
      "8/8 [==============================] - 0s 10ms/step - loss: 0.2131 - accuracy: 0.9503 - val_loss: 0.2029 - val_accuracy: 0.9498\n",
      "Epoch 23/30\n",
      "8/8 [==============================] - 0s 11ms/step - loss: 0.2037 - accuracy: 0.9503 - val_loss: 0.2017 - val_accuracy: 0.9498\n",
      "Epoch 24/30\n",
      "8/8 [==============================] - 0s 9ms/step - loss: 0.2076 - accuracy: 0.9503 - val_loss: 0.1969 - val_accuracy: 0.9498\n",
      "Epoch 25/30\n",
      "8/8 [==============================] - 0s 8ms/step - loss: 0.2043 - accuracy: 0.9503 - val_loss: 0.1995 - val_accuracy: 0.9498\n",
      "Epoch 26/30\n",
      "8/8 [==============================] - 0s 9ms/step - loss: 0.2081 - accuracy: 0.9503 - val_loss: 0.2014 - val_accuracy: 0.9498\n",
      "Epoch 27/30\n",
      "8/8 [==============================] - 0s 9ms/step - loss: 0.2063 - accuracy: 0.9503 - val_loss: 0.2044 - val_accuracy: 0.9498\n",
      "Epoch 28/30\n",
      "8/8 [==============================] - 0s 11ms/step - loss: 0.2066 - accuracy: 0.9503 - val_loss: 0.2043 - val_accuracy: 0.9498\n",
      "Epoch 29/30\n",
      "8/8 [==============================] - 0s 9ms/step - loss: 0.2041 - accuracy: 0.9503 - val_loss: 0.2016 - val_accuracy: 0.9498\n",
      "Epoch 30/30\n",
      "8/8 [==============================] - 0s 8ms/step - loss: 0.1949 - accuracy: 0.9503 - val_loss: 0.1980 - val_accuracy: 0.9498\n"
     ]
    }
   ],
   "source": [
    "model.compile(optimizer='adam', loss='binary_crossentropy',metrics=['accuracy'])\n",
    "\n",
    "history = model.fit(x_train, y_train, \n",
    "                            batch_size=512, \n",
    "                            epochs=30,\n",
    "                            validation_data=(x_test, y_test))"
   ]
  },
  {
   "cell_type": "markdown",
   "id": "78d23d18",
   "metadata": {},
   "source": [
    "## Feature Importance"
   ]
  },
  {
   "cell_type": "code",
   "execution_count": 101,
   "id": "a0bdb039",
   "metadata": {},
   "outputs": [
    {
     "data": {
      "text/plain": [
       "(19, 2)"
      ]
     },
     "execution_count": 101,
     "metadata": {},
     "output_type": "execute_result"
    }
   ],
   "source": [
    "from sklearn.inspection import permutation_importance, plot_partial_dependence\n",
    "\n",
    "# produce an array of feature importances\n",
    "feature_importances = permutation_importance(estimator=lr, X = x_train, y = y_train, n_repeats=2,\n",
    "                                random_state=123, n_jobs=2)\n",
    "\n",
    "\n",
    "feature_importances.importances.shape"
   ]
  },
  {
   "cell_type": "code",
   "execution_count": 102,
   "id": "4aa149cb",
   "metadata": {},
   "outputs": [
    {
     "data": {
      "image/png": "[encoded data removed]",
      "text/plain": [
       "<Figure size 864x576 with 1 Axes>"
      ]
     },
     "metadata": {
      "needs_background": "light"
     },
     "output_type": "display_data"
    }
   ],
   "source": [
    "sorted_idx = feature_importances.importances_mean.argsort()\n",
    "# Visualize the feature importances using boxplot\n",
    "fig, ax = plt.subplots()\n",
    "fig.set_figwidth(12)\n",
    "fig.set_figheight(8)\n",
    "fig.tight_layout()\n",
    "ax.boxplot(feature_importances.importances[sorted_idx].T,\n",
    "           vert=False, labels=x_train.columns[sorted_idx])\n",
    "ax.set_title(\"Permutation Importances (train set)\")\n",
    "plt.show()"
   ]
  },
  {
   "cell_type": "markdown",
   "id": "a0ffc88e",
   "metadata": {},
   "source": [
    "The most important features are:\n",
    "* age\n",
    "* hypertension\n",
    "* heart disease\n",
    "* averge gloucose level"
   ]
  },
  {
   "cell_type": "code",
   "execution_count": 103,
   "id": "c1c3e260",
   "metadata": {},
   "outputs": [
    {
     "data": {
      "text/plain": [
       "<sklearn.inspection._plot.partial_dependence.PartialDependenceDisplay at 0x2222bdc8970>"
      ]
     },
     "execution_count": 103,
     "metadata": {},
     "output_type": "execute_result"
    },
    {
     "data": {
      "image/png": "[encoded data removed]",
      "text/plain": [
       "<Figure size 432x288 with 3 Axes>"
      ]
     },
     "metadata": {
      "needs_background": "light"
     },
     "output_type": "display_data"
    }
   ],
   "source": [
    "# Partial Dependence Plot\n",
    "important_features = ['age', 'hypertension', 'heart_disease','avg_glucose_level']\n",
    "\n",
    "plot_partial_dependence(estimator=lr, \n",
    "                        X=x_train, \n",
    "                        features=important_features[:2],\n",
    "                        random_state=123)"
   ]
  },
  {
   "cell_type": "code",
   "execution_count": 104,
   "id": "cd40125e",
   "metadata": {},
   "outputs": [
    {
     "data": {
      "text/plain": [
       "<sklearn.inspection._plot.partial_dependence.PartialDependenceDisplay at 0x2222e24a320>"
      ]
     },
     "execution_count": 104,
     "metadata": {},
     "output_type": "execute_result"
    },
    {
     "data": {
      "image/png": "[encoded data removed]",
      "text/plain": [
       "<Figure size 432x288 with 3 Axes>"
      ]
     },
     "metadata": {
      "needs_background": "light"
     },
     "output_type": "display_data"
    }
   ],
   "source": [
    "plot_partial_dependence(estimator=lr, \n",
    "                        X=x_train, \n",
    "                        features=important_features[-2:],\n",
    "                        random_state=123)"
   ]
  },
  {
   "cell_type": "code",
   "execution_count": null,
   "id": "751550e6",
   "metadata": {},
   "outputs": [],
   "source": []
  }
 ],
 "metadata": {
  "kernelspec": {
   "display_name": "Python 3 (ipykernel)",
   "language": "python",
   "name": "python3"
  },
  "language_info": {
   "codemirror_mode": {
    "name": "ipython",
    "version": 3
   },
   "file_extension": ".py",
   "mimetype": "text/x-python",
   "name": "python",
   "nbconvert_exporter": "python",
   "pygments_lexer": "ipython3",
   "version": "3.10.2"
  }
 },
 "nbformat": 4,
 "nbformat_minor": 5
}
